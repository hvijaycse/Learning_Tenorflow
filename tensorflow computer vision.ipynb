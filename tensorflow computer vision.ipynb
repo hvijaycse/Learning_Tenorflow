{
 "cells": [
  {
   "cell_type": "code",
   "execution_count": 1,
   "metadata": {},
   "outputs": [
    {
     "name": "stderr",
     "output_type": "stream",
     "text": [
      "c:\\users\\admin\\.conda\\envs\\tensorflow1\\lib\\site-packages\\tensorflow\\python\\framework\\dtypes.py:523: FutureWarning: Passing (type, 1) or '1type' as a synonym of type is deprecated; in a future version of numpy, it will be understood as (type, (1,)) / '(1,)type'.\n",
      "  _np_qint8 = np.dtype([(\"qint8\", np.int8, 1)])\n",
      "c:\\users\\admin\\.conda\\envs\\tensorflow1\\lib\\site-packages\\tensorflow\\python\\framework\\dtypes.py:524: FutureWarning: Passing (type, 1) or '1type' as a synonym of type is deprecated; in a future version of numpy, it will be understood as (type, (1,)) / '(1,)type'.\n",
      "  _np_quint8 = np.dtype([(\"quint8\", np.uint8, 1)])\n",
      "c:\\users\\admin\\.conda\\envs\\tensorflow1\\lib\\site-packages\\tensorflow\\python\\framework\\dtypes.py:525: FutureWarning: Passing (type, 1) or '1type' as a synonym of type is deprecated; in a future version of numpy, it will be understood as (type, (1,)) / '(1,)type'.\n",
      "  _np_qint16 = np.dtype([(\"qint16\", np.int16, 1)])\n",
      "c:\\users\\admin\\.conda\\envs\\tensorflow1\\lib\\site-packages\\tensorflow\\python\\framework\\dtypes.py:526: FutureWarning: Passing (type, 1) or '1type' as a synonym of type is deprecated; in a future version of numpy, it will be understood as (type, (1,)) / '(1,)type'.\n",
      "  _np_quint16 = np.dtype([(\"quint16\", np.uint16, 1)])\n",
      "c:\\users\\admin\\.conda\\envs\\tensorflow1\\lib\\site-packages\\tensorflow\\python\\framework\\dtypes.py:527: FutureWarning: Passing (type, 1) or '1type' as a synonym of type is deprecated; in a future version of numpy, it will be understood as (type, (1,)) / '(1,)type'.\n",
      "  _np_qint32 = np.dtype([(\"qint32\", np.int32, 1)])\n",
      "c:\\users\\admin\\.conda\\envs\\tensorflow1\\lib\\site-packages\\tensorflow\\python\\framework\\dtypes.py:532: FutureWarning: Passing (type, 1) or '1type' as a synonym of type is deprecated; in a future version of numpy, it will be understood as (type, (1,)) / '(1,)type'.\n",
      "  np_resource = np.dtype([(\"resource\", np.ubyte, 1)])\n"
     ]
    }
   ],
   "source": [
    "from tensorflow import keras"
   ]
  },
  {
   "cell_type": "code",
   "execution_count": 2,
   "metadata": {},
   "outputs": [],
   "source": [
    "import tensorflow as tf"
   ]
  },
  {
   "cell_type": "code",
   "execution_count": 3,
   "metadata": {},
   "outputs": [],
   "source": [
    "mnist = keras.datasets.fashion_mnist"
   ]
  },
  {
   "cell_type": "code",
   "execution_count": 4,
   "metadata": {},
   "outputs": [],
   "source": [
    "( training_image,training_label),( testing_image, testing_label) = mnist.load_data()"
   ]
  },
  {
   "cell_type": "code",
   "execution_count": 5,
   "metadata": {},
   "outputs": [],
   "source": [
    "import numpy as np\n",
    "import matplotlib.pyplot as plt"
   ]
  },
  {
   "cell_type": "code",
   "execution_count": 6,
   "metadata": {},
   "outputs": [],
   "source": [
    "np.set_printoptions(linewidth=200)"
   ]
  },
  {
   "cell_type": "code",
   "execution_count": 7,
   "metadata": {},
   "outputs": [
    {
     "data": {
      "text/plain": [
       "(28, 28)"
      ]
     },
     "execution_count": 7,
     "metadata": {},
     "output_type": "execute_result"
    }
   ],
   "source": [
    "training_image[1].shape"
   ]
  },
  {
   "cell_type": "code",
   "execution_count": null,
   "metadata": {},
   "outputs": [],
   "source": []
  },
  {
   "cell_type": "code",
   "execution_count": 8,
   "metadata": {},
   "outputs": [
    {
     "data": {
      "text/plain": [
       "<matplotlib.image.AxesImage at 0x21d4e3a3588>"
      ]
     },
     "execution_count": 8,
     "metadata": {},
     "output_type": "execute_result"
    },
    {
     "data": {
      "image/png": "[encoded data removed]",
      "text/plain": [
       "<Figure size 432x288 with 1 Axes>"
      ]
     },
     "metadata": {
      "needs_background": "light"
     },
     "output_type": "display_data"
    }
   ],
   "source": [
    "plt.imshow(training_image[11])\n"
   ]
  },
  {
   "cell_type": "code",
   "execution_count": 9,
   "metadata": {},
   "outputs": [
    {
     "name": "stdout",
     "output_type": "stream",
     "text": [
      "[[  0   0   0   0   0   0   0   0   0   0   0   0   0   0  39 111  93  85  27   0   0   0   0   0   1   0   0   0]\n",
      " [  0   0   0   0   0   0   0   0   0   0   0   1   0   0 190 244 248 255 255 155 202 212 150   9   0   3   0   0]\n",
      " [  0   0   0   0   0   0   0   0   0   0   0   2   0   0 213 227 233 227 243 246 255 250 255 146   0   9   0   0]\n",
      " [  0   0   0   0   0   0   0   0   0   0   0   4   0   6 244 233 236 244 232 214 248 242 251  33   0   7   0   0]\n",
      " [  0   0   0   0   0   0   0   0   0   0   1   6   0  72 255 231 239 244 237 226 255 252 207  44  24   0   2   0]\n",
      " [  0   0   0   0   0   0   0   0   0   0   0   0   0 125 231 215 253 252 234 246 254 239 128 114  63   0   3   0]\n",
      " [  0   0   0   0   0   0   0   0   0   0   1   0   0 189 230 198 185 219 218 255 206 255 133  31   0   0   0   0]\n",
      " [  0   0   0   0   0   0   0   0   0   0   4   0   0 224 241 255 236 237 223 191 219 166   0   0   1   0   0   0]\n",
      " [  0   0   0   0   0   0   0   0   0   0   1   0  61 245 202 220 237 220 242 199 255 178   0   0   1   0   0   0]\n",
      " [  0   0   0   0   0   0   0   0   0   0   0   0 153 247 205 202 212 207 225 190 255  93 141   0   0   1   0   0]\n",
      " [  0   0   0   0   0   0   0   0   0   3   0   0 222 228 233 243 248 242 242 209 255   0  90 177   0   0   0   0]\n",
      " [  0   0   0   0   0   0   0   0   0   2   0  46 255 221 235 235 213 248 220 206 255 225  28 255   0   0   0   0]\n",
      " [  0   0   0   0   0   0   0   0   0   0   0 116 250 215 227 231 226 255 195 216 250 255 159 255 160   0   0   0]\n",
      " [  0   0   0   0   0   0   0   0   3   0   7 226 202 241 247 241 228 255 175 229 252 241 255 224 224  76   0   0]\n",
      " [  0   0   0   0   0   0   0   0   0   0 131 255 210 212 251 252 229 255 175 227 254 239 245 230 223 149  90   0]\n",
      " [  0   0   0   0   0   0   0   2   0   0 227 238 238 225 205 242 246 223 187 221 254 238 255 233 156   0   0   0]\n",
      " [  0   0   0   0   0   1   0   0   0  77 255 239 248 252 237 195 201 232 190 205 252 235 255 199   0   0   0   0]\n",
      " [  0   0   0   0   0   0   0   0   0 207 223 186 215 223 255 255 217 229 254 251 244 240 255 207   0   0   1   0]\n",
      " [  0   0   0   0   0   0   2   0  53 254 234 239 222 190 187 200 250 237 195 251 250 237 253 192   0   0   0   0]\n",
      " [  0   0   0   2   4   2   0   0 190 247 233 231 250 254 247 208 208 231 226 207 246 235 248 175   0   0   0   0]\n",
      " [  0   1   6   0   0   0   0 117 245 184 242 238 235 238 244 233 255 255  99 155 255 233 252 154   0   0   0   0]\n",
      " [  0   0   0   0   3  33 141 255 197 208 184 234 246 240 243 231 255  77   0 172 255 231 253 139   0   1   0   0]\n",
      " [  0   0  84 243 246 255 254 240 241 190 229 198 243 244 238 255  80   0   0 176 255 231 252 113   0   3   0   0]\n",
      " [  0  25 223 239 230 231 231 234 241 247 191 225 230 252 255 173   0   0   0 170 255 228 251  97   0   4   0   0]\n",
      " [  0 103 241 217 228 230 238 241 238 248 244 216 172 223 255   0   0   7   0 159 255 234 251  74   0   4   0   0]\n",
      " [  0   9 188 229 242 241 243 240 236 238 241 251 237 253  64   0   0   3   0 154 255 229 255  62   0   7   0   0]\n",
      " [  0   0   0  28 123 199 249 255 255 255 255 255 245  72   0   0   0   3   0 117 255 245 220  19   0   4   0   0]\n",
      " [  0   0   0   0   0   0   0  38  72  89  71  37   0   0   0   0   0   3   0   0  64  42  24   0   0   0   0   0]] 9\n"
     ]
    }
   ],
   "source": [
    "print( training_image[11], training_label[11])"
   ]
  },
  {
   "cell_type": "code",
   "execution_count": 10,
   "metadata": {},
   "outputs": [],
   "source": [
    "training_image = training_image/255.0\n",
    "test_image = testing_image / 255.0\n"
   ]
  },
  {
   "cell_type": "code",
   "execution_count": 11,
   "metadata": {},
   "outputs": [],
   "source": [
    "model = keras.models.Sequential([\n",
    "    keras.layers.Flatten(),\n",
    "    keras.layers.Dense(128, activation = tf.nn.relu),\n",
    "    keras.layers.Dense(10, activation=tf.nn.softmax)\n",
    "])"
   ]
  },
  {
   "cell_type": "code",
   "execution_count": 13,
   "metadata": {},
   "outputs": [],
   "source": [
    "model.compile(optimizer = keras.optimizers.Adam(),\n",
    "              loss = 'sparse_categorical_crossentropy',\n",
    "              metrics=['accuracy'])"
   ]
  },
  {
   "cell_type": "code",
   "execution_count": 15,
   "metadata": {},
   "outputs": [
    {
     "name": "stdout",
     "output_type": "stream",
     "text": [
      "Epoch 1/5\n",
      "60000/60000 [==============================] - 7s 122us/step - loss: 0.3811 - acc: 0.8629\n",
      "Epoch 2/5\n",
      "60000/60000 [==============================] - 7s 125us/step - loss: 0.3431 - acc: 0.8762\n",
      "Epoch 3/5\n",
      "60000/60000 [==============================] - 8s 129us/step - loss: 0.3170 - acc: 0.8840\n",
      "Epoch 4/5\n",
      "60000/60000 [==============================] - 8s 132us/step - loss: 0.2973 - acc: 0.8912\n",
      "Epoch 5/5\n",
      "60000/60000 [==============================] - 8s 130us/step - loss: 0.2843 - acc: 0.8938\n"
     ]
    },
    {
     "data": {
      "text/plain": [
       "<tensorflow.python.keras.callbacks.History at 0x21d48ce6a58>"
      ]
     },
     "execution_count": 15,
     "metadata": {},
     "output_type": "execute_result"
    }
   ],
   "source": [
    "model.fit(training_image, training_label, epochs = 5)"
   ]
  },
  {
   "cell_type": "code",
   "execution_count": 16,
   "metadata": {},
   "outputs": [
    {
     "name": "stdout",
     "output_type": "stream",
     "text": [
      "10000/10000 [==============================] - 1s 64us/step\n"
     ]
    },
    {
     "data": {
      "text/plain": [
       "[0.3658693152785301, 0.8707]"
      ]
     },
     "execution_count": 16,
     "metadata": {},
     "output_type": "execute_result"
    }
   ],
   "source": [
    "model.evaluate(test_image, testing_label)"
   ]
  },
  {
   "cell_type": "code",
   "execution_count": 17,
   "metadata": {},
   "outputs": [],
   "source": [
    "classification = model.predict(test_image)"
   ]
  },
  {
   "cell_type": "code",
   "execution_count": 18,
   "metadata": {},
   "outputs": [
    {
     "name": "stdout",
     "output_type": "stream",
     "text": [
      "[2.0321561e-06 8.9912874e-08 8.7775952e-08 4.5647656e-08 1.8068449e-07 6.1311256e-03 9.5437451e-07 4.0784545e-02 4.2175634e-07 9.5308042e-01]\n"
     ]
    }
   ],
   "source": [
    "print(classification[0])"
   ]
  },
  {
   "cell_type": "code",
   "execution_count": 19,
   "metadata": {},
   "outputs": [
    {
     "data": {
      "text/plain": [
       "9"
      ]
     },
     "execution_count": 19,
     "metadata": {},
     "output_type": "execute_result"
    }
   ],
   "source": [
    "testing_label[0]"
   ]
  },
  {
   "cell_type": "code",
   "execution_count": 20,
   "metadata": {},
   "outputs": [
    {
     "data": {
      "text/plain": [
       "<matplotlib.image.AxesImage at 0x21d48badb38>"
      ]
     },
     "execution_count": 20,
     "metadata": {},
     "output_type": "execute_result"
    },
    {
     "data": {
      "image/png": "[encoded data removed]",
      "text/plain": [
       "<Figure size 432x288 with 1 Axes>"
      ]
     },
     "metadata": {
      "needs_background": "light"
     },
     "output_type": "display_data"
    }
   ],
   "source": [
    "plt.imshow(testing_image[0])"
   ]
  },
  {
   "cell_type": "code",
   "execution_count": 3,
   "metadata": {
    "collapsed": true
   },
   "outputs": [
    {
     "ename": "NameError",
     "evalue": "name 'tf' is not defined",
     "output_type": "error",
     "traceback": [
      "\u001b[1;31m---------------------------------------------------------------------------\u001b[0m",
      "\u001b[1;31mNameError\u001b[0m                                 Traceback (most recent call last)",
      "\u001b[1;32m<ipython-input-3-32734fdfcd48>\u001b[0m in \u001b[0;36m<module>\u001b[1;34m\u001b[0m\n\u001b[1;32m----> 1\u001b[1;33m \u001b[1;32mclass\u001b[0m \u001b[0mmyCallback\u001b[0m\u001b[1;33m(\u001b[0m\u001b[0mtf\u001b[0m\u001b[1;33m.\u001b[0m\u001b[0mkeras\u001b[0m\u001b[1;33m.\u001b[0m\u001b[0mcallbacks\u001b[0m\u001b[1;33m.\u001b[0m\u001b[0mCallback\u001b[0m\u001b[1;33m)\u001b[0m\u001b[1;33m:\u001b[0m\u001b[1;33m\u001b[0m\u001b[0m\n\u001b[0m\u001b[0;32m      2\u001b[0m   \u001b[1;32mdef\u001b[0m \u001b[0mon_epoch_end\u001b[0m\u001b[1;33m(\u001b[0m\u001b[0mself\u001b[0m\u001b[1;33m,\u001b[0m \u001b[0mepoch\u001b[0m\u001b[1;33m,\u001b[0m \u001b[0mlogs\u001b[0m\u001b[1;33m=\u001b[0m\u001b[1;33m{\u001b[0m\u001b[1;33m}\u001b[0m\u001b[1;33m)\u001b[0m\u001b[1;33m:\u001b[0m\u001b[1;33m\u001b[0m\u001b[0m\n\u001b[0;32m      3\u001b[0m     \u001b[1;32mif\u001b[0m\u001b[1;33m(\u001b[0m\u001b[0mlogs\u001b[0m\u001b[1;33m.\u001b[0m\u001b[0mget\u001b[0m\u001b[1;33m(\u001b[0m\u001b[1;34m'accuracy'\u001b[0m\u001b[1;33m)\u001b[0m\u001b[1;33m>\u001b[0m\u001b[1;36m0.6\u001b[0m\u001b[1;33m)\u001b[0m\u001b[1;33m:\u001b[0m\u001b[1;33m\u001b[0m\u001b[0m\n\u001b[0;32m      4\u001b[0m       \u001b[0mprint\u001b[0m\u001b[1;33m(\u001b[0m\u001b[1;34m\"\\nReached 60% accuracy so cancelling training!\"\u001b[0m\u001b[1;33m)\u001b[0m\u001b[1;33m\u001b[0m\u001b[0m\n\u001b[0;32m      5\u001b[0m       \u001b[0mself\u001b[0m\u001b[1;33m.\u001b[0m\u001b[0mmodel\u001b[0m\u001b[1;33m.\u001b[0m\u001b[0mstop_training\u001b[0m \u001b[1;33m=\u001b[0m \u001b[1;32mTrue\u001b[0m\u001b[1;33m\u001b[0m\u001b[0m\n",
      "\u001b[1;31mNameError\u001b[0m: name 'tf' is not defined"
     ]
    }
   ],
   "source": [
    "class myCallback(tf.keras.callbacks.Callback):\n",
    "  def on_epoch_end(self, epoch, logs={}):\n",
    "    if(logs.get('accuracy')>0.6):\n",
    "      print(\"\\nReached 60% accuracy so cancelling training!\")\n",
    "      self.model.stop_training = True"
   ]
  },
  {
   "cell_type": "code",
   "execution_count": null,
   "metadata": {},
   "outputs": [],
   "source": [
    "callbacks = myCallback()"
   ]
  },
  {
   "cell_type": "code",
   "execution_count": 24,
   "metadata": {},
   "outputs": [
    {
     "name": "stdout",
     "output_type": "stream",
     "text": [
      "Epoch 1/15\n",
      "60000/60000 [==============================] - 8s 141us/step - loss: 0.4927\n",
      "Epoch 2/15\n",
      "60000/60000 [==============================] - 8s 133us/step - loss: 0.3742\n",
      "Epoch 3/15\n",
      "60000/60000 [==============================] - 8s 136us/step - loss: 0.3387 0s - loss: 0.33\n",
      "Epoch 4/15\n",
      "60000/60000 [==============================] - 8s 134us/step - loss: 0.3121\n",
      "Epoch 5/15\n",
      "60000/60000 [==============================] - 8s 138us/step - loss: 0.2937\n",
      "Epoch 6/15\n",
      "60000/60000 [==============================] - 9s 144us/step - loss: 0.2794\n",
      "Epoch 7/15\n",
      "60000/60000 [==============================] - 9s 148us/step - loss: 0.2666\n",
      "Epoch 8/15\n",
      "60000/60000 [==============================] - 9s 150us/step - loss: 0.2555\n",
      "Epoch 9/15\n",
      "60000/60000 [==============================] - 9s 154us/step - loss: 0.2492\n",
      "Epoch 10/15\n",
      "60000/60000 [==============================] - 10s 164us/step - loss: 0.2381\n",
      "Epoch 11/15\n",
      "60000/60000 [==============================] - 9s 158us/step - loss: 0.2306\n",
      "Epoch 12/15\n",
      "60000/60000 [==============================] - 9s 155us/step - loss: 0.2220\n",
      "Epoch 13/15\n",
      "60000/60000 [==============================] - 9s 154us/step - loss: 0.2155\n",
      "Epoch 14/15\n",
      "60000/60000 [==============================] - 10s 175us/step - loss: 0.2082\n",
      "Epoch 15/15\n",
      "60000/60000 [==============================] - 11s 180us/step - loss: 0.2023\n"
     ]
    },
    {
     "data": {
      "text/plain": [
       "<tensorflow.python.keras.callbacks.History at 0x21ddaa8af60>"
      ]
     },
     "execution_count": 24,
     "metadata": {},
     "output_type": "execute_result"
    }
   ],
   "source": [
    "#import tensorflow as tf\n",
    "#print(tf.__version__)\n",
    "\n",
    "#mnist = tf.keras.datasets.mnist\n",
    "\n",
    "(training_images, training_labels) ,  (test_images, test_labels) = mnist.load_data()\n",
    "\n",
    "training_images = training_images/255.0\n",
    "test_images = test_images/255.0\n",
    "\n",
    "modeln = tf.keras.models.Sequential([tf.keras.layers.Flatten(),\n",
    "                                    tf.keras.layers.Dense(128, activation=tf.nn.relu),\n",
    "                                    tf.keras.layers.Dense(10, activation=tf.nn.softmax)])\n",
    "\n",
    "modeln.compile(optimizer = 'adam',\n",
    "              loss = 'sparse_categorical_crossentropy')\n",
    "\n",
    "modeln.fit(training_images, training_labels, epochs=15, callbacks = [callbacks])\n",
    "\n"
   ]
  },
  {
   "cell_type": "code",
   "execution_count": null,
   "metadata": {},
   "outputs": [],
   "source": [
    "model.evaluate(test_images, test_labels)"
   ]
  },
  {
   "cell_type": "code",
   "execution_count": null,
   "metadata": {},
   "outputs": [],
   "source": [
    "classifications = model.predict(test_ima"
   ]
  },
  {
   "cell_type": "code",
   "execution_count": null,
   "metadata": {},
   "outputs": [],
   "source": [
    "print(classifications[0])\n",
    "print(test_labels[0])"
   ]
  },
  {
   "cell_type": "code",
   "execution_count": 1,
   "metadata": {},
   "outputs": [],
   "source": [
    "def a():\n",
    "    def b():\n",
    "        print('b')\n",
    "        return\n",
    "    b()\n",
    "    print('a')\n",
    "    return"
   ]
  },
  {
   "cell_type": "code",
   "execution_count": 2,
   "metadata": {},
   "outputs": [
    {
     "name": "stdout",
     "output_type": "stream",
     "text": [
      "b\n",
      "a\n"
     ]
    }
   ],
   "source": [
    "a()"
   ]
  },
  {
   "cell_type": "code",
   "execution_count": null,
   "metadata": {},
   "outputs": [],
   "source": []
  }
 ],
 "metadata": {
  "kernelspec": {
   "display_name": "Python 3",
   "language": "python",
   "name": "python3"
  },
  "language_info": {
   "codemirror_mode": {
    "name": "ipython",
    "version": 3
   },
   "file_extension": ".py",
   "mimetype": "text/x-python",
   "name": "python",
   "nbconvert_exporter": "python",
   "pygments_lexer": "ipython3",
   "version": "3.7.4"
  }
 },
 "nbformat": 4,
 "nbformat_minor": 4
}
