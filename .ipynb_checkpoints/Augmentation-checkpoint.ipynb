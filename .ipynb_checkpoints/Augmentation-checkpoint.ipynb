{
 "cells": [
  {
   "cell_type": "code",
   "execution_count": 1,
   "metadata": {},
   "outputs": [],
   "source": [
    "import os"
   ]
  },
  {
   "cell_type": "code",
   "execution_count": 2,
   "metadata": {
    "scrolled": true
   },
   "outputs": [
    {
     "name": "stderr",
     "output_type": "stream",
     "text": [
      "c:\\users\\admin\\.conda\\envs\\tensorflow1\\lib\\site-packages\\tensorflow\\python\\framework\\dtypes.py:523: FutureWarning: Passing (type, 1) or '1type' as a synonym of type is deprecated; in a future version of numpy, it will be understood as (type, (1,)) / '(1,)type'.\n",
      "  _np_qint8 = np.dtype([(\"qint8\", np.int8, 1)])\n",
      "c:\\users\\admin\\.conda\\envs\\tensorflow1\\lib\\site-packages\\tensorflow\\python\\framework\\dtypes.py:524: FutureWarning: Passing (type, 1) or '1type' as a synonym of type is deprecated; in a future version of numpy, it will be understood as (type, (1,)) / '(1,)type'.\n",
      "  _np_quint8 = np.dtype([(\"quint8\", np.uint8, 1)])\n",
      "c:\\users\\admin\\.conda\\envs\\tensorflow1\\lib\\site-packages\\tensorflow\\python\\framework\\dtypes.py:525: FutureWarning: Passing (type, 1) or '1type' as a synonym of type is deprecated; in a future version of numpy, it will be understood as (type, (1,)) / '(1,)type'.\n",
      "  _np_qint16 = np.dtype([(\"qint16\", np.int16, 1)])\n",
      "c:\\users\\admin\\.conda\\envs\\tensorflow1\\lib\\site-packages\\tensorflow\\python\\framework\\dtypes.py:526: FutureWarning: Passing (type, 1) or '1type' as a synonym of type is deprecated; in a future version of numpy, it will be understood as (type, (1,)) / '(1,)type'.\n",
      "  _np_quint16 = np.dtype([(\"quint16\", np.uint16, 1)])\n",
      "c:\\users\\admin\\.conda\\envs\\tensorflow1\\lib\\site-packages\\tensorflow\\python\\framework\\dtypes.py:527: FutureWarning: Passing (type, 1) or '1type' as a synonym of type is deprecated; in a future version of numpy, it will be understood as (type, (1,)) / '(1,)type'.\n",
      "  _np_qint32 = np.dtype([(\"qint32\", np.int32, 1)])\n",
      "c:\\users\\admin\\.conda\\envs\\tensorflow1\\lib\\site-packages\\tensorflow\\python\\framework\\dtypes.py:532: FutureWarning: Passing (type, 1) or '1type' as a synonym of type is deprecated; in a future version of numpy, it will be understood as (type, (1,)) / '(1,)type'.\n",
      "  np_resource = np.dtype([(\"resource\", np.ubyte, 1)])\n"
     ]
    }
   ],
   "source": [
    "from tensorflow import keras"
   ]
  },
  {
   "cell_type": "code",
   "execution_count": 16,
   "metadata": {},
   "outputs": [],
   "source": [
    "model = keras.models.Sequential([\n",
    "    keras.layers.Conv2D( 16, (3,3), activation = 'relu', input_shape = (150,150,3)),\n",
    "    keras.layers.MaxPool2D(2,2),\n",
    "    keras.layers.Conv2D(32, (3,3), activation = 'relu'),\n",
    "    keras.layers.MaxPool2D(2,2),\n",
    "    keras.layers.Conv2D(64, (3,3), activation = 'relu'),\n",
    "    keras.layers.MaxPool2D(2,2),\n",
    "    keras.layers.Conv2D(64, (3,3), activation = 'relu'),\n",
    "    keras.layers.MaxPool2D(2,2),\n",
    "\n",
    "    keras.layers.Flatten(),\n",
    "    keras.layers.Dense(512, activation = 'relu'),\n",
    "    keras.layers.Dense(1, activation = 'sigmoid')\n",
    "])"
   ]
  },
  {
   "cell_type": "code",
   "execution_count": 17,
   "metadata": {},
   "outputs": [
    {
     "name": "stdout",
     "output_type": "stream",
     "text": [
      "_________________________________________________________________\n",
      "Layer (type)                 Output Shape              Param #   \n",
      "=================================================================\n",
      "conv2d_5 (Conv2D)            (None, 148, 148, 16)      448       \n",
      "_________________________________________________________________\n",
      "max_pooling2d_5 (MaxPooling2 (None, 74, 74, 16)        0         \n",
      "_________________________________________________________________\n",
      "conv2d_6 (Conv2D)            (None, 72, 72, 32)        4640      \n",
      "_________________________________________________________________\n",
      "max_pooling2d_6 (MaxPooling2 (None, 36, 36, 32)        0         \n",
      "_________________________________________________________________\n",
      "conv2d_7 (Conv2D)            (None, 34, 34, 64)        18496     \n",
      "_________________________________________________________________\n",
      "max_pooling2d_7 (MaxPooling2 (None, 17, 17, 64)        0         \n",
      "_________________________________________________________________\n",
      "conv2d_8 (Conv2D)            (None, 15, 15, 64)        36928     \n",
      "_________________________________________________________________\n",
      "max_pooling2d_8 (MaxPooling2 (None, 7, 7, 64)          0         \n",
      "_________________________________________________________________\n",
      "flatten_1 (Flatten)          (None, 3136)              0         \n",
      "_________________________________________________________________\n",
      "dense_2 (Dense)              (None, 512)               1606144   \n",
      "_________________________________________________________________\n",
      "dense_3 (Dense)              (None, 1)                 513       \n",
      "=================================================================\n",
      "Total params: 1,667,169\n",
      "Trainable params: 1,667,169\n",
      "Non-trainable params: 0\n",
      "_________________________________________________________________\n"
     ]
    }
   ],
   "source": [
    "model.summary()"
   ]
  },
  {
   "cell_type": "code",
   "execution_count": 5,
   "metadata": {},
   "outputs": [],
   "source": [
    "from tensorflow.keras.preprocessing.image import ImageDataGenerator"
   ]
  },
  {
   "cell_type": "code",
   "execution_count": 6,
   "metadata": {},
   "outputs": [],
   "source": [
    "Training_path = './horse-or-human/'"
   ]
  },
  {
   "cell_type": "code",
   "execution_count": 7,
   "metadata": {},
   "outputs": [],
   "source": [
    "Testing_path = './validation-horse-or-human'"
   ]
  },
  {
   "cell_type": "code",
   "execution_count": 8,
   "metadata": {},
   "outputs": [],
   "source": [
    "Training_image = ImageDataGenerator( \n",
    "    rescale=1./255,\n",
    "      rotation_range=40,\n",
    "      width_shift_range=0.2,\n",
    "      height_shift_range=0.2,\n",
    "      shear_range=0.2,\n",
    "      zoom_range=0.2,\n",
    "      horizontal_flip=True,\n",
    "      fill_mode='nearest'\n",
    ")"
   ]
  },
  {
   "cell_type": "code",
   "execution_count": 9,
   "metadata": {},
   "outputs": [],
   "source": [
    "Validation_image = ImageDataGenerator(rescale = 1/255)"
   ]
  },
  {
   "cell_type": "code",
   "execution_count": 18,
   "metadata": {},
   "outputs": [
    {
     "name": "stdout",
     "output_type": "stream",
     "text": [
      "Found 1027 images belonging to 2 classes.\n"
     ]
    }
   ],
   "source": [
    "Training = Training_image.flow_from_directory( \n",
    "    Training_path,\n",
    "    target_size =  (150,150),\n",
    "    batch_size = 128,\n",
    "    class_mode= 'binary'\n",
    ")"
   ]
  },
  {
   "cell_type": "code",
   "execution_count": 19,
   "metadata": {},
   "outputs": [
    {
     "name": "stdout",
     "output_type": "stream",
     "text": [
      "Found 256 images belonging to 2 classes.\n"
     ]
    }
   ],
   "source": [
    "Validation = Validation_image.flow_from_directory(\n",
    "    Testing_path,\n",
    "    target_size = (150,150),\n",
    "    batch_size = 32,\n",
    "    class_mode= 'binary'\n",
    ")"
   ]
  },
  {
   "cell_type": "code",
   "execution_count": 12,
   "metadata": {},
   "outputs": [],
   "source": [
    "from tensorflow.keras.optimizers import RMSprop"
   ]
  },
  {
   "cell_type": "code",
   "execution_count": 21,
   "metadata": {},
   "outputs": [],
   "source": [
    "model.compile(loss='binary_crossentropy',\n",
    "              optimizer=RMSprop(lr=1e-4),\n",
    "              metrics=['accuracy'])"
   ]
  },
  {
   "cell_type": "code",
   "execution_count": 22,
   "metadata": {},
   "outputs": [
    {
     "name": "stdout",
     "output_type": "stream",
     "text": [
      "Epoch 1/100\n",
      "8/8 [==============================] - 11s 1s/step - loss: 0.6875 - acc: 0.5493 - val_loss: 0.6778 - val_acc: 0.5156\n",
      "Epoch 2/100\n",
      "8/8 [==============================] - 11s 1s/step - loss: 0.6507 - acc: 0.6465 - val_loss: 0.7558 - val_acc: 0.5000\n",
      "Epoch 3/100\n",
      "8/8 [==============================] - 8s 987ms/step - loss: 0.6432 - acc: 0.6477 - val_loss: 0.7049 - val_acc: 0.5273\n",
      "Epoch 4/100\n",
      "8/8 [==============================] - 11s 1s/step - loss: 0.5993 - acc: 0.7129 - val_loss: 0.5733 - val_acc: 0.7109\n",
      "Epoch 5/100\n",
      "8/8 [==============================] - 9s 1s/step - loss: 0.5729 - acc: 0.7572 - val_loss: 0.9497 - val_acc: 0.5078\n",
      "Epoch 6/100\n",
      "8/8 [==============================] - 11s 1s/step - loss: 0.5455 - acc: 0.7461 - val_loss: 0.8224 - val_acc: 0.5391\n",
      "Epoch 7/100\n",
      "8/8 [==============================] - 10s 1s/step - loss: 0.5991 - acc: 0.7382 - val_loss: 0.5821 - val_acc: 0.6758\n",
      "Epoch 8/100\n",
      "8/8 [==============================] - 10s 1s/step - loss: 0.5572 - acc: 0.7377 - val_loss: 0.7242 - val_acc: 0.5664\n",
      "Epoch 9/100\n",
      "8/8 [==============================] - 10s 1s/step - loss: 0.5322 - acc: 0.7437 - val_loss: 0.6369 - val_acc: 0.6328\n",
      "Epoch 10/100\n",
      "8/8 [==============================] - 10s 1s/step - loss: 0.5563 - acc: 0.7090 - val_loss: 0.6205 - val_acc: 0.6445\n",
      "Epoch 11/100\n",
      "8/8 [==============================] - 10s 1s/step - loss: 0.5514 - acc: 0.7298 - val_loss: 0.8811 - val_acc: 0.5391\n",
      "Epoch 12/100\n",
      "8/8 [==============================] - 10s 1s/step - loss: 0.5046 - acc: 0.7635 - val_loss: 0.5639 - val_acc: 0.7109\n",
      "Epoch 13/100\n",
      "8/8 [==============================] - 10s 1s/step - loss: 0.4991 - acc: 0.7363 - val_loss: 0.7740 - val_acc: 0.6094\n",
      "Epoch 14/100\n",
      "8/8 [==============================] - 12s 2s/step - loss: 0.5038 - acc: 0.7578 - val_loss: 0.8614 - val_acc: 0.5859\n",
      "Epoch 15/100\n",
      "8/8 [==============================] - 11s 1s/step - loss: 0.5213 - acc: 0.7635 - val_loss: 0.9156 - val_acc: 0.5664\n",
      "Epoch 16/100\n",
      "8/8 [==============================] - 10s 1s/step - loss: 0.4667 - acc: 0.8037 - val_loss: 1.1924 - val_acc: 0.5312\n",
      "Epoch 17/100\n",
      "8/8 [==============================] - 10s 1s/step - loss: 0.6107 - acc: 0.7169 - val_loss: 0.9860 - val_acc: 0.5625\n",
      "Epoch 18/100\n",
      "8/8 [==============================] - 10s 1s/step - loss: 0.4948 - acc: 0.7392 - val_loss: 1.0529 - val_acc: 0.5469\n",
      "Epoch 19/100\n",
      "8/8 [==============================] - 11s 1s/step - loss: 0.5548 - acc: 0.7397 - val_loss: 1.4739 - val_acc: 0.5117\n",
      "Epoch 20/100\n",
      "8/8 [==============================] - 11s 1s/step - loss: 0.4538 - acc: 0.7754 - val_loss: 0.8362 - val_acc: 0.6133\n",
      "Epoch 21/100\n",
      "8/8 [==============================] - 11s 1s/step - loss: 0.4851 - acc: 0.7174 - val_loss: 1.1721 - val_acc: 0.5469\n",
      "Epoch 22/100\n",
      "8/8 [==============================] - 12s 1s/step - loss: 0.4870 - acc: 0.7705 - val_loss: 0.9662 - val_acc: 0.5898\n",
      "Epoch 23/100\n",
      "8/8 [==============================] - 13s 2s/step - loss: 0.4473 - acc: 0.7969 - val_loss: 0.9650 - val_acc: 0.6055\n",
      "Epoch 24/100\n",
      "8/8 [==============================] - 9s 1s/step - loss: 0.4873 - acc: 0.7678 - val_loss: 1.1581 - val_acc: 0.5781\n",
      "Epoch 25/100\n",
      "8/8 [==============================] - 13s 2s/step - loss: 0.4482 - acc: 0.8066 - val_loss: 1.1225 - val_acc: 0.5898\n",
      "Epoch 26/100\n",
      "8/8 [==============================] - 11s 1s/step - loss: 0.4422 - acc: 0.7744 - val_loss: 0.9962 - val_acc: 0.6172\n",
      "Epoch 27/100\n",
      "8/8 [==============================] - 11s 1s/step - loss: 0.4632 - acc: 0.7695 - val_loss: 1.3407 - val_acc: 0.5664\n",
      "Epoch 28/100\n",
      "8/8 [==============================] - 10s 1s/step - loss: 0.4053 - acc: 0.8493 - val_loss: 1.6528 - val_acc: 0.5391\n",
      "Epoch 29/100\n",
      "8/8 [==============================] - 12s 1s/step - loss: 0.4432 - acc: 0.7939 - val_loss: 0.9061 - val_acc: 0.6641\n",
      "Epoch 30/100\n",
      "8/8 [==============================] - 10s 1s/step - loss: 0.4224 - acc: 0.8361 - val_loss: 0.4179 - val_acc: 0.8359\n",
      "Epoch 31/100\n",
      "8/8 [==============================] - 11s 1s/step - loss: 0.5302 - acc: 0.7645 - val_loss: 1.5925 - val_acc: 0.5469\n",
      "Epoch 32/100\n",
      "8/8 [==============================] - 14s 2s/step - loss: 0.3711 - acc: 0.8486 - val_loss: 1.3896 - val_acc: 0.5742\n",
      "Epoch 33/100\n",
      "8/8 [==============================] - 12s 1s/step - loss: 0.4120 - acc: 0.8165 - val_loss: 1.3705 - val_acc: 0.5781\n",
      "Epoch 34/100\n",
      "8/8 [==============================] - 9s 1s/step - loss: 0.4729 - acc: 0.7878 - val_loss: 1.5180 - val_acc: 0.5781\n",
      "Epoch 35/100\n",
      "8/8 [==============================] - 13s 2s/step - loss: 0.3810 - acc: 0.8320 - val_loss: 1.4146 - val_acc: 0.5820\n",
      "Epoch 36/100\n",
      "8/8 [==============================] - 10s 1s/step - loss: 0.3805 - acc: 0.8294 - val_loss: 1.4747 - val_acc: 0.5820\n",
      "Epoch 37/100\n",
      "8/8 [==============================] - 11s 1s/step - loss: 0.4126 - acc: 0.8032 - val_loss: 1.5139 - val_acc: 0.5859\n",
      "Epoch 38/100\n",
      "8/8 [==============================] - 11s 1s/step - loss: 0.3487 - acc: 0.8522 - val_loss: 1.0852 - val_acc: 0.6562\n",
      "Epoch 39/100\n",
      "8/8 [==============================] - 10s 1s/step - loss: 0.3656 - acc: 0.8532 - val_loss: 1.7554 - val_acc: 0.5703\n",
      "Epoch 40/100\n",
      "8/8 [==============================] - 12s 1s/step - loss: 0.3635 - acc: 0.8223 - val_loss: 1.4131 - val_acc: 0.6055\n",
      "Epoch 41/100\n",
      "8/8 [==============================] - 10s 1s/step - loss: 0.3168 - acc: 0.8711 - val_loss: 1.9489 - val_acc: 0.5508\n",
      "Epoch 42/100\n",
      "8/8 [==============================] - 11s 1s/step - loss: 0.3783 - acc: 0.8463 - val_loss: 1.7502 - val_acc: 0.5742\n",
      "Epoch 43/100\n",
      "8/8 [==============================] - 11s 1s/step - loss: 0.3103 - acc: 0.8760 - val_loss: 1.8946 - val_acc: 0.5703\n",
      "Epoch 44/100\n",
      "8/8 [==============================] - 11s 1s/step - loss: 0.3697 - acc: 0.8423 - val_loss: 1.6153 - val_acc: 0.5781\n",
      "Epoch 45/100\n",
      "8/8 [==============================] - 11s 1s/step - loss: 0.4478 - acc: 0.7953 - val_loss: 1.3827 - val_acc: 0.6094\n",
      "Epoch 46/100\n",
      "8/8 [==============================] - 10s 1s/step - loss: 0.3074 - acc: 0.8840 - val_loss: 1.1644 - val_acc: 0.6680\n",
      "Epoch 47/100\n",
      "8/8 [==============================] - 10s 1s/step - loss: 0.3299 - acc: 0.8493 - val_loss: 1.9148 - val_acc: 0.5625\n",
      "Epoch 48/100\n",
      "8/8 [==============================] - 11s 1s/step - loss: 0.3782 - acc: 0.7918 - val_loss: 1.7802 - val_acc: 0.5781\n",
      "Epoch 49/100\n",
      "8/8 [==============================] - 13s 2s/step - loss: 0.3015 - acc: 0.8770 - val_loss: 1.9063 - val_acc: 0.5625\n",
      "Epoch 50/100\n",
      "8/8 [==============================] - 11s 1s/step - loss: 0.2956 - acc: 0.8840 - val_loss: 1.6589 - val_acc: 0.6016\n",
      "Epoch 51/100\n",
      "8/8 [==============================] - 10s 1s/step - loss: 0.3074 - acc: 0.8434 - val_loss: 2.4128 - val_acc: 0.5469\n",
      "Epoch 52/100\n",
      "8/8 [==============================] - 12s 1s/step - loss: 0.2970 - acc: 0.8818 - val_loss: 1.9721 - val_acc: 0.5859\n",
      "Epoch 53/100\n",
      "8/8 [==============================] - 11s 1s/step - loss: 0.4200 - acc: 0.8300 - val_loss: 1.4693 - val_acc: 0.6328\n",
      "Epoch 54/100\n",
      "8/8 [==============================] - 10s 1s/step - loss: 0.2754 - acc: 0.8979 - val_loss: 1.3030 - val_acc: 0.6641\n",
      "Epoch 55/100\n",
      "8/8 [==============================] - 11s 1s/step - loss: 0.2928 - acc: 0.8721 - val_loss: 1.6391 - val_acc: 0.6250\n",
      "Epoch 56/100\n",
      "8/8 [==============================] - 11s 1s/step - loss: 0.3836 - acc: 0.8339 - val_loss: 1.6170 - val_acc: 0.6055\n",
      "Epoch 57/100\n",
      "8/8 [==============================] - 10s 1s/step - loss: 0.2710 - acc: 0.9048 - val_loss: 1.9598 - val_acc: 0.5859\n",
      "Epoch 58/100\n",
      "8/8 [==============================] - 11s 1s/step - loss: 0.2555 - acc: 0.9028 - val_loss: 1.1975 - val_acc: 0.6953\n",
      "Epoch 59/100\n",
      "8/8 [==============================] - 12s 1s/step - loss: 0.2684 - acc: 0.8810 - val_loss: 1.2921 - val_acc: 0.6758\n",
      "Epoch 60/100\n",
      "8/8 [==============================] - 11s 1s/step - loss: 0.3874 - acc: 0.8121 - val_loss: 2.0528 - val_acc: 0.5859\n",
      "Epoch 61/100\n",
      "8/8 [==============================] - 14s 2s/step - loss: 0.2577 - acc: 0.8936 - val_loss: 2.0090 - val_acc: 0.5898\n",
      "Epoch 62/100\n",
      "8/8 [==============================] - 12s 2s/step - loss: 0.2556 - acc: 0.8954 - val_loss: 2.0298 - val_acc: 0.5977\n",
      "Epoch 63/100\n",
      "8/8 [==============================] - 12s 2s/step - loss: 0.2695 - acc: 0.8879 - val_loss: 2.7277 - val_acc: 0.5352\n",
      "Epoch 64/100\n"
     ]
    },
    {
     "name": "stdout",
     "output_type": "stream",
     "text": [
      "8/8 [==============================] - 10s 1s/step - loss: 0.2590 - acc: 0.8949 - val_loss: 1.3941 - val_acc: 0.6836\n",
      "Epoch 65/100\n",
      "8/8 [==============================] - 11s 1s/step - loss: 0.2712 - acc: 0.8919 - val_loss: 2.0933 - val_acc: 0.6055\n",
      "Epoch 66/100\n",
      "8/8 [==============================] - 13s 2s/step - loss: 0.2508 - acc: 0.9023 - val_loss: 1.9850 - val_acc: 0.6094\n",
      "Epoch 67/100\n",
      "8/8 [==============================] - 11s 1s/step - loss: 0.3439 - acc: 0.8770 - val_loss: 1.5924 - val_acc: 0.6641\n",
      "Epoch 68/100\n",
      "8/8 [==============================] - 9s 1s/step - loss: 0.4141 - acc: 0.8194 - val_loss: 1.8942 - val_acc: 0.6094\n",
      "Epoch 69/100\n",
      "8/8 [==============================] - 12s 1s/step - loss: 0.2178 - acc: 0.9189 - val_loss: 2.2133 - val_acc: 0.5898\n",
      "Epoch 70/100\n",
      "8/8 [==============================] - 11s 1s/step - loss: 0.2326 - acc: 0.9068 - val_loss: 2.6377 - val_acc: 0.5547\n",
      "Epoch 71/100\n",
      "8/8 [==============================] - 11s 1s/step - loss: 0.2803 - acc: 0.8607 - val_loss: 2.1252 - val_acc: 0.6016\n",
      "Epoch 72/100\n",
      "8/8 [==============================] - 10s 1s/step - loss: 0.2792 - acc: 0.8939 - val_loss: 3.2644 - val_acc: 0.5195\n",
      "Epoch 73/100\n",
      "8/8 [==============================] - 11s 1s/step - loss: 0.2539 - acc: 0.8998 - val_loss: 2.4856 - val_acc: 0.5703\n",
      "Epoch 74/100\n",
      "8/8 [==============================] - 14s 2s/step - loss: 0.2070 - acc: 0.9160 - val_loss: 2.5712 - val_acc: 0.5703\n",
      "Epoch 75/100\n",
      "8/8 [==============================] - 9s 1s/step - loss: 0.4285 - acc: 0.8022 - val_loss: 1.9482 - val_acc: 0.6133\n",
      "Epoch 76/100\n",
      "8/8 [==============================] - 11s 1s/step - loss: 0.1724 - acc: 0.9375 - val_loss: 2.0125 - val_acc: 0.6250\n",
      "Epoch 77/100\n",
      "8/8 [==============================] - 13s 2s/step - loss: 0.2178 - acc: 0.9150 - val_loss: 2.3020 - val_acc: 0.6055\n",
      "Epoch 78/100\n",
      "8/8 [==============================] - 11s 1s/step - loss: 0.2408 - acc: 0.8889 - val_loss: 1.9631 - val_acc: 0.6289\n",
      "Epoch 79/100\n",
      "8/8 [==============================] - 11s 1s/step - loss: 0.3319 - acc: 0.8666 - val_loss: 2.3336 - val_acc: 0.6016\n",
      "Epoch 80/100\n",
      "8/8 [==============================] - 10s 1s/step - loss: 0.2026 - acc: 0.9207 - val_loss: 2.5716 - val_acc: 0.5742\n",
      "Epoch 81/100\n",
      "8/8 [==============================] - 11s 1s/step - loss: 0.2034 - acc: 0.9167 - val_loss: 2.8491 - val_acc: 0.5625\n",
      "Epoch 82/100\n",
      "8/8 [==============================] - 10s 1s/step - loss: 0.2562 - acc: 0.9008 - val_loss: 1.9325 - val_acc: 0.6289\n",
      "Epoch 83/100\n",
      "8/8 [==============================] - 10s 1s/step - loss: 0.1799 - acc: 0.9375 - val_loss: 1.9736 - val_acc: 0.6484\n",
      "Epoch 84/100\n",
      "8/8 [==============================] - 11s 1s/step - loss: 0.2464 - acc: 0.8969 - val_loss: 2.4390 - val_acc: 0.6016\n",
      "Epoch 85/100\n",
      "8/8 [==============================] - 11s 1s/step - loss: 0.1917 - acc: 0.9276 - val_loss: 1.6089 - val_acc: 0.6797\n",
      "Epoch 86/100\n",
      "8/8 [==============================] - 11s 1s/step - loss: 0.3250 - acc: 0.8329 - val_loss: 2.0472 - val_acc: 0.6250\n",
      "Epoch 87/100\n",
      "8/8 [==============================] - 13s 2s/step - loss: 0.2024 - acc: 0.9131 - val_loss: 2.0255 - val_acc: 0.6484\n",
      "Epoch 88/100\n",
      "8/8 [==============================] - 9s 1s/step - loss: 0.1881 - acc: 0.9262 - val_loss: 2.1995 - val_acc: 0.6445\n",
      "Epoch 89/100\n",
      "8/8 [==============================] - 12s 2s/step - loss: 0.1958 - acc: 0.9219 - val_loss: 1.7624 - val_acc: 0.6719\n",
      "Epoch 90/100\n",
      "8/8 [==============================] - 11s 1s/step - loss: 0.2209 - acc: 0.9078 - val_loss: 2.9941 - val_acc: 0.5625\n",
      "Epoch 91/100\n",
      "8/8 [==============================] - 12s 1s/step - loss: 0.1978 - acc: 0.9286 - val_loss: 1.4209 - val_acc: 0.7070\n",
      "Epoch 92/100\n",
      "8/8 [==============================] - 11s 1s/step - loss: 0.1979 - acc: 0.9088 - val_loss: 1.7322 - val_acc: 0.6641\n",
      "Epoch 93/100\n",
      "8/8 [==============================] - 12s 2s/step - loss: 0.2025 - acc: 0.9180 - val_loss: 2.5640 - val_acc: 0.6016\n",
      "Epoch 94/100\n",
      "8/8 [==============================] - 11s 1s/step - loss: 0.2609 - acc: 0.8728 - val_loss: 3.2747 - val_acc: 0.5703\n",
      "Epoch 95/100\n",
      "8/8 [==============================] - 13s 2s/step - loss: 0.1739 - acc: 0.9248 - val_loss: 3.0066 - val_acc: 0.5781\n",
      "Epoch 96/100\n",
      "8/8 [==============================] - 10s 1s/step - loss: 0.1778 - acc: 0.9306 - val_loss: 2.3281 - val_acc: 0.6289\n",
      "Epoch 97/100\n",
      "8/8 [==============================] - 9s 1s/step - loss: 0.2273 - acc: 0.9079 - val_loss: 2.5114 - val_acc: 0.6094\n",
      "Epoch 98/100\n",
      "8/8 [==============================] - 12s 1s/step - loss: 0.1551 - acc: 0.9474 - val_loss: 0.9023 - val_acc: 0.7852\n",
      "Epoch 99/100\n",
      "8/8 [==============================] - 13s 2s/step - loss: 0.2436 - acc: 0.8984 - val_loss: 2.4879 - val_acc: 0.6211\n",
      "Epoch 100/100\n",
      "8/8 [==============================] - 11s 1s/step - loss: 0.1817 - acc: 0.9336 - val_loss: 2.0790 - val_acc: 0.6523\n"
     ]
    }
   ],
   "source": [
    "history = model.fit(\n",
    "    Training,\n",
    "    epochs = 100, \n",
    "    steps_per_epoch= 8,\n",
    "    validation_data= Validation,\n",
    "    verbose= 1,\n",
    "    validation_steps= 8\n",
    ")"
   ]
  },
  {
   "cell_type": "code",
   "execution_count": 23,
   "metadata": {},
   "outputs": [],
   "source": [
    "accuracy = history.history['acc']\n",
    "val_acc = history.history['val_acc']\n",
    "loss = history.history['loss']\n",
    "val_loss = history.history['val_loss']\n",
    "epocs = range(len(accuracy))"
   ]
  },
  {
   "cell_type": "code",
   "execution_count": 24,
   "metadata": {},
   "outputs": [],
   "source": [
    "from matplotlib import pyplot as plt"
   ]
  },
  {
   "cell_type": "code",
   "execution_count": 25,
   "metadata": {},
   "outputs": [
    {
     "data": {
      "image/png": "[encoded data removed]",
      "text/plain": [
       "<Figure size 432x288 with 1 Axes>"
      ]
     },
     "metadata": {
      "needs_background": "light"
     },
     "output_type": "display_data"
    },
    {
     "data": {
      "image/png": "[encoded data removed]",
      "text/plain": [
       "<Figure size 432x288 with 1 Axes>"
      ]
     },
     "metadata": {
      "needs_background": "light"
     },
     "output_type": "display_data"
    }
   ],
   "source": [
    "plt.plot( epocs, accuracy, 'r', label = 'Training_acc')\n",
    "plt.plot(epocs, val_acc, 'b', label = 'Validation_acc')\n",
    "plt.legend(loc=\"best\")\n",
    "plt.figure()\n",
    "plt.plot( epocs, loss, 'r', label = ' Training LOSS')\n",
    "plt.plot( epocs, val_loss, 'b', label = 'Validation_loss')\n",
    "plt.legend(loc=\"best\")\n",
    "plt.show()"
   ]
  },
  {
   "cell_type": "markdown",
   "metadata": {},
   "source": [
    "I dont know what the hell is going on here the validation accuracry is not increasing een after using augmentation  and the validation loss is like woow wooww\n",
    "\n"
   ]
  },
  {
   "cell_type": "code",
   "execution_count": null,
   "metadata": {},
   "outputs": [],
   "source": []
  }
 ],
 "metadata": {
  "kernelspec": {
   "display_name": "Python 3",
   "language": "python",
   "name": "python3"
  },
  "language_info": {
   "codemirror_mode": {
    "name": "ipython",
    "version": 3
   },
   "file_extension": ".py",
   "mimetype": "text/x-python",
   "name": "python",
   "nbconvert_exporter": "python",
   "pygments_lexer": "ipython3",
   "version": "3.5.6"
  }
 },
 "nbformat": 4,
 "nbformat_minor": 2
}
